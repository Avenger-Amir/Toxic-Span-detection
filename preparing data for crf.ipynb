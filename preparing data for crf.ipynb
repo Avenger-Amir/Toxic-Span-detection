{
 "cells": [
  {
   "cell_type": "code",
   "execution_count": 1,
   "metadata": {},
   "outputs": [],
   "source": [
    "import numpy as np\n",
    "import pandas as pd\n",
    "import csv\n",
    "import re"
   ]
  },
  {
   "cell_type": "code",
   "execution_count": 9,
   "metadata": {},
   "outputs": [],
   "source": [
    "#train=pd.read_csv('train.csv',header=None)\n",
    "train=pd.read_csv('train.csv',header=None)"
   ]
  },
  {
   "cell_type": "code",
   "execution_count": 10,
   "metadata": {},
   "outputs": [],
   "source": [
    "data=train.values"
   ]
  },
  {
   "cell_type": "code",
   "execution_count": 11,
   "metadata": {},
   "outputs": [
    {
     "data": {
      "text/html": [
       "<div>\n",
       "<style scoped>\n",
       "    .dataframe tbody tr th:only-of-type {\n",
       "        vertical-align: middle;\n",
       "    }\n",
       "\n",
       "    .dataframe tbody tr th {\n",
       "        vertical-align: top;\n",
       "    }\n",
       "\n",
       "    .dataframe thead th {\n",
       "        text-align: right;\n",
       "    }\n",
       "</style>\n",
       "<table border=\"1\" class=\"dataframe\">\n",
       "  <thead>\n",
       "    <tr style=\"text-align: right;\">\n",
       "      <th></th>\n",
       "      <th>0</th>\n",
       "      <th>1</th>\n",
       "    </tr>\n",
       "  </thead>\n",
       "  <tbody>\n",
       "    <tr>\n",
       "      <th>0</th>\n",
       "      <td>[8, 9, 10, 11, 12, 13, 14, 15, 16, 17, 18, 19,...</td>\n",
       "      <td>Another violent and aggressive immigrant killi...</td>\n",
       "    </tr>\n",
       "    <tr>\n",
       "      <th>1</th>\n",
       "      <td>[33, 34, 35, 36, 37, 38, 39]</td>\n",
       "      <td>I am 56 years old, I am not your fucking junio...</td>\n",
       "    </tr>\n",
       "    <tr>\n",
       "      <th>2</th>\n",
       "      <td>[0, 1, 2, 3]</td>\n",
       "      <td>Damn, a whole family. Sad indeed.</td>\n",
       "    </tr>\n",
       "    <tr>\n",
       "      <th>3</th>\n",
       "      <td>[7, 8, 9, 10, 11, 12, 13, 14, 15, 16, 17]</td>\n",
       "      <td>What a knucklehead. How can anyone not know th...</td>\n",
       "    </tr>\n",
       "    <tr>\n",
       "      <th>4</th>\n",
       "      <td>[32, 33, 34, 35, 36, 37, 38]</td>\n",
       "      <td>\"who do you think should do the killing?\"\\n\\nA...</td>\n",
       "    </tr>\n",
       "  </tbody>\n",
       "</table>\n",
       "</div>"
      ],
      "text/plain": [
       "                                                   0  \\\n",
       "0  [8, 9, 10, 11, 12, 13, 14, 15, 16, 17, 18, 19,...   \n",
       "1                       [33, 34, 35, 36, 37, 38, 39]   \n",
       "2                                       [0, 1, 2, 3]   \n",
       "3          [7, 8, 9, 10, 11, 12, 13, 14, 15, 16, 17]   \n",
       "4                       [32, 33, 34, 35, 36, 37, 38]   \n",
       "\n",
       "                                                   1  \n",
       "0  Another violent and aggressive immigrant killi...  \n",
       "1  I am 56 years old, I am not your fucking junio...  \n",
       "2                  Damn, a whole family. Sad indeed.  \n",
       "3  What a knucklehead. How can anyone not know th...  \n",
       "4  \"who do you think should do the killing?\"\\n\\nA...  "
      ]
     },
     "execution_count": 11,
     "metadata": {},
     "output_type": "execute_result"
    }
   ],
   "source": [
    "train.head()"
   ]
  },
  {
   "cell_type": "code",
   "execution_count": 12,
   "metadata": {},
   "outputs": [
    {
     "data": {
      "text/plain": [
       "(7939, 2)"
      ]
     },
     "execution_count": 12,
     "metadata": {},
     "output_type": "execute_result"
    }
   ],
   "source": [
    "train.shape"
   ]
  },
  {
   "cell_type": "code",
   "execution_count": 13,
   "metadata": {},
   "outputs": [
    {
     "name": "stdout",
     "output_type": "stream",
     "text": [
      "(7939,)\n"
     ]
    }
   ],
   "source": [
    "XT=train[1]\n",
    "print(XT.shape)"
   ]
  },
  {
   "cell_type": "code",
   "execution_count": 14,
   "metadata": {},
   "outputs": [],
   "source": [
    "YT=train[0]\n",
    "#YT[0]=YT[1]"
   ]
  },
  {
   "cell_type": "code",
   "execution_count": 15,
   "metadata": {},
   "outputs": [],
   "source": [
    "def get_word(s):\n",
    "#     if len(s)==0:\n",
    "#         return []\n",
    "    s=re.split(r'[;,.?\\s]\\s*', s)   # split with delimiters comma, semicolon and space .. followed by any amount of extra whitespace.\n",
    "    l=[]\n",
    "    for word in s:\n",
    "        if(len(word)>0):\n",
    "            l.append(word)\n",
    "    return l"
   ]
  },
  {
   "cell_type": "code",
   "execution_count": 16,
   "metadata": {},
   "outputs": [],
   "source": [
    "def getY_word2(XT,YT):\n",
    "    X_word=[]\n",
    "    Y_word=[]\n",
    "    for i in range(0,len(YT)):\n",
    "        tmpY=YT[i][1:-1]\n",
    "        ans=\"\"\n",
    "        X_tmp,Y_tmp=[],[]\n",
    "        s=XT[i]\n",
    "        if len(tmpY)>0:\n",
    "            tmpY=list(map(int,tmpY.split(\", \")))\n",
    "            idx_pre={}\n",
    "            for num in tmpY:\n",
    "                idx_pre[num]=1\n",
    "            ans=\"\"\n",
    "            for i in range(0,len(s)):\n",
    "                if idx_pre.get(i)!=None:\n",
    "                    ans+=s[i]\n",
    "                else:\n",
    "                    ans+=' '\n",
    "        X_tmp=get_word(s)\n",
    "        Y_tmp=get_word(ans)\n",
    "        X_word.append(X_tmp)\n",
    "        Y_word.append(Y_tmp)\n",
    "    return (X_word,Y_word)"
   ]
  },
  {
   "cell_type": "code",
   "execution_count": 17,
   "metadata": {},
   "outputs": [],
   "source": [
    "X_word,Y_word=getY_word2(XT,YT)"
   ]
  },
  {
   "cell_type": "code",
   "execution_count": 18,
   "metadata": {},
   "outputs": [
    {
     "name": "stdout",
     "output_type": "stream",
     "text": [
      "['Another', 'violent', 'and', 'aggressive', 'immigrant', 'killing', 'a', 'innocent', 'and', 'intelligent', 'US', 'Citizen', 'Sarcasm']\n",
      "['violent', 'and', 'aggressive', 'immigrant']\n"
     ]
    }
   ],
   "source": [
    "print(X_word[0])\n",
    "print(Y_word[0])"
   ]
  },
  {
   "cell_type": "code",
   "execution_count": 19,
   "metadata": {},
   "outputs": [],
   "source": [
    "# def getY_word(XT,YT):\n",
    "#     Y_word=[]\n",
    "#     for i in range(0,len(YT)):\n",
    "#         XT[i]=XT[i].replace(\"-\",\" \")\n",
    "#         tmpY=YT[i][1:-1]\n",
    "#         if len(tmpY)>0:\n",
    "#             tmpY=list(map(int,tmpY.split(\", \")))\n",
    "#             s=\"\"\n",
    "#             l=[]\n",
    "#             prev=0\n",
    "#             for idx in tmpY:\n",
    "#                 if (XT[i][int(idx)].lower()>='a' and XT[i][int(idx)].lower()<='z') or (XT[i][idx]=='\\'') or (XT[i][idx]=='*'):\n",
    "#                     if prev!=idx-1:\n",
    "#                         if len(s)>0:\n",
    "#                             l.append(s)\n",
    "#                             s=\"\"\n",
    "#                     s+=XT[i][int(idx)]\n",
    "#                 else:\n",
    "#                     if len(s)>0:\n",
    "#                         l.append(s)\n",
    "#                     s=\"\"\n",
    "#                 prev=idx\n",
    "\n",
    "#             if len(s)>0:\n",
    "#                 l.append(s)\n",
    "#             #print(f'{l} {i}')\n",
    "#             Y_word.append(l)\n",
    "#         else:\n",
    "#             l=[]\n",
    "#             Y_word.append(l)\n",
    "#     return Y_word"
   ]
  },
  {
   "cell_type": "code",
   "execution_count": 20,
   "metadata": {},
   "outputs": [],
   "source": [
    "# Y_word=getY_word(XT,YT)\n",
    "# for i in range(0,10):\n",
    "#     print(XT[i])\n",
    "#     print(YT[i])\n",
    "#     print(X_word[i])\n",
    "#     print(Y_word[i])"
   ]
  },
  {
   "cell_type": "code",
   "execution_count": 21,
   "metadata": {},
   "outputs": [],
   "source": [
    "def doIndexing(X_word,Y_Word,maxLen):\n",
    "    YIndex=np.zeros((len(X_word),maxLen))\n",
    "    for i in range(0,len(X_word)):\n",
    "        j,k=0,0\n",
    "        while j<len(X_word[i]) and k<len(Y_word[i]):\n",
    "            if X_word[i][j]==Y_word[i][k]:\n",
    "                YIndex[i][j]=1\n",
    "                k+=1\n",
    "            j+=1\n",
    "    return YIndex"
   ]
  },
  {
   "cell_type": "code",
   "execution_count": 22,
   "metadata": {},
   "outputs": [
    {
     "name": "stdout",
     "output_type": "stream",
     "text": [
      "199\n"
     ]
    }
   ],
   "source": [
    "maxLen=0\n",
    "for i in range(0,len(X_word)):\n",
    "    maxLen=max(maxLen,len(X_word[i]))\n",
    "\n",
    "print(maxLen)\n",
    "YIndex=doIndexing(X_word,Y_word,maxLen)"
   ]
  },
  {
   "cell_type": "code",
   "execution_count": 23,
   "metadata": {},
   "outputs": [
    {
     "name": "stdout",
     "output_type": "stream",
     "text": [
      "[0. 0. 0. 0. 0. 0. 0. 0. 0. 1. 0. 0. 0. 0. 0. 0. 0. 0. 0. 0. 0. 0. 0. 0.\n",
      " 0. 0. 0. 0. 0. 0. 0. 0. 0. 0. 0. 0. 0. 0. 0. 0. 0. 0. 0. 0. 0. 0. 0. 0.\n",
      " 0. 0. 0. 0. 0. 0. 0. 0. 0. 0. 0. 0. 0. 0. 0. 0. 0. 0. 0. 0. 0. 0. 0. 0.\n",
      " 0. 0. 0. 0. 0. 0. 0. 0. 0. 0. 0. 0. 0. 0. 0. 0. 0. 0. 0. 0. 0. 0. 0. 0.\n",
      " 0. 0. 0. 0. 0. 0. 0. 0. 0. 0. 0. 0. 0. 0. 0. 0. 0. 0. 0. 0. 0. 0. 0. 0.\n",
      " 0. 0. 0. 0. 0. 0. 0. 0. 0. 0. 0. 0. 0. 0. 0. 0. 0. 0. 0. 0. 0. 0. 0. 0.\n",
      " 0. 0. 0. 0. 0. 0. 0. 0. 0. 0. 0. 0. 0. 0. 0. 0. 0. 0. 0. 0. 0. 0. 0. 0.\n",
      " 0. 0. 0. 0. 0. 0. 0. 0. 0. 0. 0. 0. 0. 0. 0. 0. 0. 0. 0. 0. 0. 0. 0. 0.\n",
      " 0. 0. 0. 0. 0. 0. 0.]\n"
     ]
    }
   ],
   "source": [
    "print(YIndex[1])"
   ]
  },
  {
   "cell_type": "code",
   "execution_count": 24,
   "metadata": {},
   "outputs": [],
   "source": [
    "def write_file(X_word,YIndex):\n",
    "    with open('crf_file_real.csv', mode='w', newline='') as crf_file:\n",
    "        crf_writer = csv.writer(crf_file, delimiter=',')\n",
    "        crf_writer.writerow(['Sentence #', 'Word', 'Tag'])\n",
    "        for i in range (0,len(XT)):\n",
    "            s=X_word[i];\n",
    "            for j in range (0,len(s)):\n",
    "                if j==0:\n",
    "                    tmp='Sentence: {idx}'.format(idx=i+1)\n",
    "                    val='A'\n",
    "                    if YIndex[i][j]==1.0:\n",
    "                        val='P'\n",
    "                    l=[str(tmp),str(s[j]),str(val)]\n",
    "                    crf_writer.writerow(l)\n",
    "                else:\n",
    "                    #print(s[j],i)\n",
    "                    val='A'\n",
    "                    if YIndex[i][j]==1.0:\n",
    "                        val='P'\n",
    "                    crf_writer.writerow(['', s[j], val])\n",
    "            crf_writer.writerow(['', '.', 'A'])"
   ]
  },
  {
   "cell_type": "code",
   "execution_count": 25,
   "metadata": {},
   "outputs": [],
   "source": [
    "write_file(X_word,YIndex)"
   ]
  },
  {
   "cell_type": "code",
   "execution_count": 19,
   "metadata": {},
   "outputs": [],
   "source": [
    "def saveFile(fileName,data):\n",
    "    #savetxt('data.csv', data, delimiter=',')\n",
    "    df=pd.DataFrame(data)\n",
    "    df.to_csv(fileName+\".csv\", header=None, index=None)"
   ]
  },
  {
   "cell_type": "code",
   "execution_count": 20,
   "metadata": {},
   "outputs": [],
   "source": [
    "saveFile(\"X_word_crf\",X_word)\n",
    "saveFile(\"YIndex_crf\",YIndex)"
   ]
  },
  {
   "cell_type": "code",
   "execution_count": null,
   "metadata": {},
   "outputs": [],
   "source": []
  }
 ],
 "metadata": {
  "kernelspec": {
   "display_name": "Python 3",
   "language": "python",
   "name": "python3"
  },
  "language_info": {
   "codemirror_mode": {
    "name": "ipython",
    "version": 3
   },
   "file_extension": ".py",
   "mimetype": "text/x-python",
   "name": "python",
   "nbconvert_exporter": "python",
   "pygments_lexer": "ipython3",
   "version": "3.7.6"
  }
 },
 "nbformat": 4,
 "nbformat_minor": 4
}
